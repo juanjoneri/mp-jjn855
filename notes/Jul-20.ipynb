{
 "cells": [
  {
   "cell_type": "code",
   "execution_count": 1,
   "metadata": {},
   "outputs": [],
   "source": [
    "from gensim.models import Word2Vec"
   ]
  },
  {
   "cell_type": "code",
   "execution_count": 2,
   "metadata": {},
   "outputs": [],
   "source": [
    "text = \"When Mr. Bilbo Baggins of Bag End announced that he would shortly be celebrating his eleventy-first birthday with a party of special magnificence, there was much talk and excitement in Hobbiton. Bilbo was very rich and very peculiar, and had been the wonder of the Shire for sixty years, ever since his remarkable disappearance and unexpected return. The riches he had brought back from his travels had now become a local legend, and it was popularly believed, whatever the old folk might say, that the Hill at Bag End was full of tunnels stuffed with treasure.\""
   ]
  },
  {
   "cell_type": "code",
   "execution_count": 3,
   "metadata": {},
   "outputs": [],
   "source": [
    "from nltk import sent_tokenize, word_tokenize"
   ]
  },
  {
   "cell_type": "code",
   "execution_count": 8,
   "metadata": {},
   "outputs": [
    {
     "name": "stdout",
     "output_type": "stream",
     "text": [
      "[['When', 'Mr.', 'Bilbo', 'Baggins', 'of', 'Bag', 'End', 'announced', 'that', 'he', 'would', 'shortly', 'be', 'celebrating', 'his', 'eleventy-first', 'birthday', 'with', 'a', 'party', 'of', 'special', 'magnificence', ',', 'there', 'was', 'much', 'talk', 'and', 'excitement', 'in', 'Hobbiton', '.'], ['Bilbo', 'was', 'very', 'rich', 'and', 'very', 'peculiar', ',', 'and', 'had', 'been', 'the', 'wonder', 'of', 'the', 'Shire', 'for', 'sixty', 'years', ',', 'ever', 'since', 'his', 'remarkable', 'disappearance', 'and', 'unexpected', 'return', '.'], ['The', 'riches', 'he', 'had', 'brought', 'back', 'from', 'his', 'travels', 'had', 'now', 'become', 'a', 'local', 'legend', ',', 'and', 'it', 'was', 'popularly', 'believed', ',', 'whatever', 'the', 'old', 'folk', 'might', 'say', ',', 'that', 'the', 'Hill', 'at', 'Bag', 'End', 'was', 'full', 'of', 'tunnels', 'stuffed', 'with', 'treasure', '.']]\n"
     ]
    }
   ],
   "source": [
    "sentences = [word_tokenize(sent) for sent in sent_tokenize(text)]\n",
    "print(sentences)"
   ]
  },
  {
   "cell_type": "code",
   "execution_count": 10,
   "metadata": {},
   "outputs": [
    {
     "name": "stdout",
     "output_type": "stream",
     "text": [
      "Word2Vec<vocab=73, vector_size=100, alpha=0.025>\n"
     ]
    }
   ],
   "source": [
    "model = Word2Vec(sentences, min_count=1)\n",
    "print(model)"
   ]
  },
  {
   "cell_type": "code",
   "execution_count": 11,
   "metadata": {},
   "outputs": [
    {
     "data": {
      "text/plain": [
       "{',': 0,\n",
       " 'and': 1,\n",
       " 'the': 2,\n",
       " 'was': 3,\n",
       " 'of': 4,\n",
       " '.': 5,\n",
       " 'had': 6,\n",
       " 'his': 7,\n",
       " 'he': 8,\n",
       " 'a': 9,\n",
       " 'with': 10,\n",
       " 'that': 11,\n",
       " 'very': 12,\n",
       " 'End': 13,\n",
       " 'Bag': 14,\n",
       " 'Bilbo': 15,\n",
       " 'Hobbiton': 16,\n",
       " 'in': 17,\n",
       " 'excitement': 18,\n",
       " 'talk': 19,\n",
       " 'rich': 20,\n",
       " 'much': 21,\n",
       " 'there': 22,\n",
       " 'treasure': 23,\n",
       " 'magnificence': 24,\n",
       " 'special': 25,\n",
       " 'party': 26,\n",
       " 'birthday': 27,\n",
       " 'eleventy-first': 28,\n",
       " 'celebrating': 29,\n",
       " 'be': 30,\n",
       " 'shortly': 31,\n",
       " 'would': 32,\n",
       " 'announced': 33,\n",
       " 'Baggins': 34,\n",
       " 'Mr.': 35,\n",
       " 'peculiar': 36,\n",
       " 'been': 37,\n",
       " 'stuffed': 38,\n",
       " 'old': 39,\n",
       " 'local': 40,\n",
       " 'legend': 41,\n",
       " 'it': 42,\n",
       " 'popularly': 43,\n",
       " 'believed': 44,\n",
       " 'whatever': 45,\n",
       " 'folk': 46,\n",
       " 'now': 47,\n",
       " 'might': 48,\n",
       " 'say': 49,\n",
       " 'Hill': 50,\n",
       " 'at': 51,\n",
       " 'full': 52,\n",
       " 'tunnels': 53,\n",
       " 'become': 54,\n",
       " 'travels': 55,\n",
       " 'wonder': 56,\n",
       " 'remarkable': 57,\n",
       " 'Shire': 58,\n",
       " 'for': 59,\n",
       " 'sixty': 60,\n",
       " 'years': 61,\n",
       " 'ever': 62,\n",
       " 'since': 63,\n",
       " 'disappearance': 64,\n",
       " 'from': 65,\n",
       " 'unexpected': 66,\n",
       " 'return': 67,\n",
       " 'The': 68,\n",
       " 'riches': 69,\n",
       " 'brought': 70,\n",
       " 'back': 71,\n",
       " 'When': 72}"
      ]
     },
     "execution_count": 11,
     "metadata": {},
     "output_type": "execute_result"
    }
   ],
   "source": [
    "model.wv.key_to_index"
   ]
  },
  {
   "cell_type": "code",
   "execution_count": 12,
   "metadata": {},
   "outputs": [
    {
     "data": {
      "text/plain": [
       "array([-7.1930937e-03,  4.2344136e-03,  2.1560106e-03,  7.4445093e-03,\n",
       "       -4.8893397e-03, -4.5736535e-03, -6.0905940e-03,  3.3143591e-03,\n",
       "       -4.5073787e-03,  8.5184220e-03, -4.2917989e-03, -9.1123236e-03,\n",
       "       -4.8151067e-03,  6.4205308e-03, -6.3667702e-03, -5.2658445e-03,\n",
       "       -7.3029995e-03,  6.0189203e-03,  3.3533075e-03,  2.8385986e-03,\n",
       "       -3.1323405e-03,  6.0320543e-03, -6.1440514e-03, -1.9830416e-03,\n",
       "       -5.9860498e-03, -9.9548372e-04, -2.0294846e-03,  8.4919548e-03,\n",
       "        7.2603747e-05, -8.5748648e-03, -5.4260376e-03, -6.8744519e-03,\n",
       "        2.6985148e-03,  9.4505027e-03, -5.8150794e-03,  8.2690697e-03,\n",
       "        8.5364822e-03, -7.0622633e-03, -8.8903746e-03,  9.4729681e-03,\n",
       "        8.3724819e-03, -4.6874429e-03, -6.7278077e-03,  7.8430334e-03,\n",
       "        3.7672014e-03,  8.0895051e-03, -7.5767017e-03, -9.5263701e-03,\n",
       "        1.5837271e-03, -9.8021170e-03, -4.8796600e-03, -3.4673447e-03,\n",
       "        9.6228886e-03,  8.6138230e-03, -2.8274958e-03,  5.8242148e-03,\n",
       "        8.2393996e-03, -2.2597695e-03,  9.5284358e-03,  7.1666217e-03,\n",
       "        2.0396498e-03, -3.8583474e-03, -5.0771874e-03, -3.0514547e-03,\n",
       "        7.8836149e-03, -6.1856676e-03, -2.9203007e-03,  9.1973692e-03,\n",
       "        3.4460081e-03,  6.0817581e-03, -8.0374423e-03, -7.4715447e-04,\n",
       "        5.5301185e-03, -4.7178655e-03,  7.4826698e-03,  9.3153026e-03,\n",
       "       -4.0205210e-04, -2.0675436e-03, -5.9208518e-04, -5.7894811e-03,\n",
       "       -8.3963228e-03, -1.4985222e-03, -2.5707944e-03,  4.3896302e-03,\n",
       "       -6.8750791e-03,  5.4069716e-03, -6.7409566e-03, -7.8161480e-03,\n",
       "        8.4746592e-03,  8.9278426e-03, -3.4719750e-03,  3.4894033e-03,\n",
       "       -5.7947114e-03, -8.7547256e-03, -5.5054845e-03,  6.7440681e-03,\n",
       "        6.4272378e-03,  9.4397301e-03,  7.0609096e-03,  6.7464383e-03],\n",
       "      dtype=float32)"
      ]
     },
     "execution_count": 12,
     "metadata": {},
     "output_type": "execute_result"
    }
   ],
   "source": [
    "model.wv['Bilbo']"
   ]
  },
  {
   "cell_type": "code",
   "execution_count": 13,
   "metadata": {},
   "outputs": [],
   "source": [
    "model.save('model.bin')"
   ]
  },
  {
   "cell_type": "code",
   "execution_count": 14,
   "metadata": {},
   "outputs": [],
   "source": [
    "new_model = Word2Vec.load('model.bin')"
   ]
  },
  {
   "cell_type": "code",
   "execution_count": 15,
   "metadata": {},
   "outputs": [],
   "source": [
    "model.wv.save_word2vec_format('model.txt', binary=False)"
   ]
  },
  {
   "cell_type": "code",
   "execution_count": 16,
   "metadata": {},
   "outputs": [],
   "source": [
    "from gensim.models import KeyedVectors\n",
    "new_model = KeyedVectors.load_word2vec_format('model.txt', binary=False)"
   ]
  },
  {
   "cell_type": "code",
   "execution_count": 18,
   "metadata": {},
   "outputs": [],
   "source": [
    "import matplotlib.pyplot as plt"
   ]
  },
  {
   "cell_type": "code",
   "execution_count": 25,
   "metadata": {},
   "outputs": [],
   "source": [
    "from sklearn.decomposition import PCA\n",
    "pca = PCA(n_components=2)\n",
    "result = pca.fit_transform(model.wv.vectors)"
   ]
  },
  {
   "cell_type": "markdown",
   "metadata": {},
   "source": [
    "## plot two of the dimentions of the normalized encodings"
   ]
  },
  {
   "cell_type": "code",
   "execution_count": 27,
   "metadata": {},
   "outputs": [
    {
     "data": {
      "text/plain": [
       "<matplotlib.collections.PathCollection at 0x7fa6947fb520>"
      ]
     },
     "execution_count": 27,
     "metadata": {},
     "output_type": "execute_result"
    },
    {
     "data": {
      "image/png": "[encoded data removed]",
      "text/plain": [
       "<Figure size 432x288 with 1 Axes>"
      ]
     },
     "metadata": {
      "needs_background": "light"
     },
     "output_type": "display_data"
    }
   ],
   "source": [
    "plt.scatter(result[:,0], result[:,1])"
   ]
  },
  {
   "cell_type": "code",
   "execution_count": null,
   "metadata": {},
   "outputs": [],
   "source": []
  }
 ],
 "metadata": {
  "kernelspec": {
   "display_name": "Python 3",
   "language": "python",
   "name": "python3"
  },
  "language_info": {
   "codemirror_mode": {
    "name": "ipython",
    "version": 3
   },
   "file_extension": ".py",
   "mimetype": "text/x-python",
   "name": "python",
   "nbconvert_exporter": "python",
   "pygments_lexer": "ipython3",
   "version": "3.8.10"
  }
 },
 "nbformat": 4,
 "nbformat_minor": 4
}
